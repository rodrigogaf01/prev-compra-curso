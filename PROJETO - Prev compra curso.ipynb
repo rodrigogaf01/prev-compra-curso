{
 "cells": [
  {
   "cell_type": "markdown",
   "metadata": {},
   "source": [
    "# Previsão de compra dos cursos"
   ]
  },
  {
   "cell_type": "markdown",
   "metadata": {},
   "source": [
    "---"
   ]
  },
  {
   "cell_type": "markdown",
   "metadata": {},
   "source": [
    "**Empresa Ficticia**\n",
    "\n",
    "### Data Cursos Online\n",
    "\n",
    "O Data Cursos Online é uma plataforma que visa conectar estudantes, profissionais e mestres do conhecimento em um único ambiente.\n",
    "\n",
    "Contamos com uma equipe qualificada de profissionais da área da educação que avaliam toda a plataforma e cursos a fim de auxiliar alunos a obterem uma experiência realmente construtiva e enriquecedora em cada um de seus cursos."
   ]
  },
  {
   "cell_type": "markdown",
   "metadata": {},
   "source": [
    "## Checklist das Etapas\n",
    "\n",
    "1. Definindo o problema.\n",
    "2. Captação dos dados.\n",
    "3. Análise exploratória dos dados.\n",
    "4. Preparação dos dados.\n",
    "5. Construção do modelo de Machine Learning.\n",
    "6. Avaliação do modelo."
   ]
  },
  {
   "cell_type": "markdown",
   "metadata": {},
   "source": [
    "## 1. Definindo o problema.\n",
    "\n",
    "A Data Cursos Online observou um crescente numero de novos concorrentes na internet, todos com métodos, marketing e propostas diferentes e inovadoras. A empresa, já possui um grande número de usuários mas teme a perda de uma parte para essas novas plataformas. Por isso decidiu investir em duas frentes: Na manutenção dos usuários antigos e na captação de novos.\n",
    "\n",
    "Através de um banco de dados disponibilizado, conseguimos observar algumas características de usuários que visitam o site da empresa e através dele queremos entender bem o perfil dos compradores e não compradores.\n",
    "\n",
    "\n",
    "### Objetivo\n",
    "\n",
    "Através do banco de dados, criar um modelo de Machine Learning com o propósito de tentar prever a futura compra ou não do usuário a partir de algumas variáveis registradas.\n",
    "\n",
    "Essas variáveis são computadas quando o usuário acessa no site, navega nas páginas, busca por algum produto e se comprou."
   ]
  },
  {
   "cell_type": "markdown",
   "metadata": {},
   "source": [
    "## 2. Caletando os dados.\n",
    "\n",
    "Dados disponibilizados pela Alura Cursos, que estão acessível [neste link](https://github.com/rodrigogaf01/prev-compra-curso/blob/main/datacurso.csv)."
   ]
  },
  {
   "cell_type": "code",
   "execution_count": 1,
   "metadata": {},
   "outputs": [],
   "source": [
    "# Bibliotecas excenciais\n",
    "import pandas as pd\n",
    "import numpy as np\n",
    "import seaborn as sns\n",
    "import matplotlib.pyplot as plt\n",
    "import warnings\n",
    "\n",
    "# Machine Learning\n",
    "from sklearn.model_selection import train_test_split, KFold, GridSearchCV, cross_val_score\n",
    "from sklearn.pipeline import Pipeline\n",
    "from sklearn.tree import DecisionTreeClassifier\n",
    "from sklearn.ensemble import AdaBoostClassifier, RandomForestClassifier\n",
    "from sklearn.svm import SVC\n",
    "from sklearn.linear_model import LogisticRegression\n",
    "from sklearn.neighbors import KNeighborsClassifier\n",
    "from sklearn.metrics import accuracy_score, classification_report, confusion_matrix, ConfusionMatrixDisplay\n",
    "from sklearn.dummy import DummyClassifier\n",
    "import pickle\n",
    "\n",
    "# Simulador\n",
    "from ipywidgets import widgets, HBox, VBox\n",
    "from IPython.display import display"
   ]
  },
  {
   "cell_type": "code",
   "execution_count": 2,
   "metadata": {},
   "outputs": [
    {
     "data": {
      "text/html": [
       "<div>\n",
       "<style scoped>\n",
       "    .dataframe tbody tr th:only-of-type {\n",
       "        vertical-align: middle;\n",
       "    }\n",
       "\n",
       "    .dataframe tbody tr th {\n",
       "        vertical-align: top;\n",
       "    }\n",
       "\n",
       "    .dataframe thead th {\n",
       "        text-align: right;\n",
       "    }\n",
       "</style>\n",
       "<table border=\"1\" class=\"dataframe\">\n",
       "  <thead>\n",
       "    <tr style=\"text-align: right;\">\n",
       "      <th></th>\n",
       "      <th>home</th>\n",
       "      <th>busca</th>\n",
       "      <th>logado</th>\n",
       "      <th>comprou</th>\n",
       "    </tr>\n",
       "  </thead>\n",
       "  <tbody>\n",
       "    <tr>\n",
       "      <th>0</th>\n",
       "      <td>0</td>\n",
       "      <td>algoritmos</td>\n",
       "      <td>1</td>\n",
       "      <td>1</td>\n",
       "    </tr>\n",
       "    <tr>\n",
       "      <th>1</th>\n",
       "      <td>0</td>\n",
       "      <td>java</td>\n",
       "      <td>0</td>\n",
       "      <td>1</td>\n",
       "    </tr>\n",
       "    <tr>\n",
       "      <th>2</th>\n",
       "      <td>1</td>\n",
       "      <td>algoritmos</td>\n",
       "      <td>0</td>\n",
       "      <td>1</td>\n",
       "    </tr>\n",
       "    <tr>\n",
       "      <th>3</th>\n",
       "      <td>1</td>\n",
       "      <td>ruby</td>\n",
       "      <td>1</td>\n",
       "      <td>0</td>\n",
       "    </tr>\n",
       "    <tr>\n",
       "      <th>4</th>\n",
       "      <td>1</td>\n",
       "      <td>ruby</td>\n",
       "      <td>0</td>\n",
       "      <td>1</td>\n",
       "    </tr>\n",
       "  </tbody>\n",
       "</table>\n",
       "</div>"
      ],
      "text/plain": [
       "   home       busca  logado  comprou\n",
       "0     0  algoritmos       1        1\n",
       "1     0        java       0        1\n",
       "2     1  algoritmos       0        1\n",
       "3     1        ruby       1        0\n",
       "4     1        ruby       0        1"
      ]
     },
     "execution_count": 2,
     "metadata": {},
     "output_type": "execute_result"
    }
   ],
   "source": [
    "# Importando os dados\n",
    "dados= pd.read_csv('datacurso.csv')\n",
    "dados.head()\n"
   ]
  },
  {
   "cell_type": "code",
   "execution_count": 3,
   "metadata": {},
   "outputs": [
    {
     "name": "stdout",
     "output_type": "stream",
     "text": [
      "Número de linhas:  1000\n",
      "Número de colunas:  4\n"
     ]
    }
   ],
   "source": [
    "print('Número de linhas: ', dados.shape[0])\n",
    "print('Número de colunas: ', dados.shape[1])"
   ]
  },
  {
   "cell_type": "code",
   "execution_count": 4,
   "metadata": {},
   "outputs": [
    {
     "data": {
      "text/plain": [
       "array(['algoritmos', 'java', 'ruby'], dtype=object)"
      ]
     },
     "execution_count": 4,
     "metadata": {},
     "output_type": "execute_result"
    }
   ],
   "source": [
    "# Verificando os dados contidos na coluna 'busca'\n",
    "dados.busca.unique()"
   ]
  },
  {
   "cell_type": "markdown",
   "metadata": {},
   "source": [
    "## 3. Análise exploratória dos dados\n",
    "\n",
    "Na análise inicial, toda variável deve ser estudada. É importante analisar o nome, valores faltantes, presença de outliers e o tipo de distribuição.\n",
    "\n",
    "Como o caso é de previsão da compra de um curso pelo usuário, a variável ```'comprou'``` será deficina como variavel alvo."
   ]
  },
  {
   "cell_type": "markdown",
   "metadata": {},
   "source": [
    "### Variáveis\n",
    "\n",
    "* **home:** Mostra se o usuário acessou a página home do site.\n",
    "* **busca:** Informa qual foi o curso buscado pelo usuário.\n",
    "* **logado:** Informa se o usuário estava logado com a sua conta no site.\n",
    "* **comprou:** Computa se foi feita a compra ou não do curso."
   ]
  },
  {
   "cell_type": "code",
   "execution_count": 5,
   "metadata": {
    "scrolled": true
   },
   "outputs": [
    {
     "data": {
      "text/html": [
       "<div>\n",
       "<style scoped>\n",
       "    .dataframe tbody tr th:only-of-type {\n",
       "        vertical-align: middle;\n",
       "    }\n",
       "\n",
       "    .dataframe tbody tr th {\n",
       "        vertical-align: top;\n",
       "    }\n",
       "\n",
       "    .dataframe thead th {\n",
       "        text-align: right;\n",
       "    }\n",
       "</style>\n",
       "<table border=\"1\" class=\"dataframe\">\n",
       "  <thead>\n",
       "    <tr style=\"text-align: right;\">\n",
       "      <th></th>\n",
       "      <th>home</th>\n",
       "      <th>logado</th>\n",
       "      <th>comprou</th>\n",
       "    </tr>\n",
       "  </thead>\n",
       "  <tbody>\n",
       "    <tr>\n",
       "      <th>count</th>\n",
       "      <td>1000.000000</td>\n",
       "      <td>1000.000000</td>\n",
       "      <td>1000.000000</td>\n",
       "    </tr>\n",
       "    <tr>\n",
       "      <th>mean</th>\n",
       "      <td>0.502000</td>\n",
       "      <td>0.509000</td>\n",
       "      <td>0.832000</td>\n",
       "    </tr>\n",
       "    <tr>\n",
       "      <th>std</th>\n",
       "      <td>0.500246</td>\n",
       "      <td>0.500169</td>\n",
       "      <td>0.374053</td>\n",
       "    </tr>\n",
       "    <tr>\n",
       "      <th>min</th>\n",
       "      <td>0.000000</td>\n",
       "      <td>0.000000</td>\n",
       "      <td>0.000000</td>\n",
       "    </tr>\n",
       "    <tr>\n",
       "      <th>25%</th>\n",
       "      <td>0.000000</td>\n",
       "      <td>0.000000</td>\n",
       "      <td>1.000000</td>\n",
       "    </tr>\n",
       "    <tr>\n",
       "      <th>50%</th>\n",
       "      <td>1.000000</td>\n",
       "      <td>1.000000</td>\n",
       "      <td>1.000000</td>\n",
       "    </tr>\n",
       "    <tr>\n",
       "      <th>75%</th>\n",
       "      <td>1.000000</td>\n",
       "      <td>1.000000</td>\n",
       "      <td>1.000000</td>\n",
       "    </tr>\n",
       "    <tr>\n",
       "      <th>max</th>\n",
       "      <td>1.000000</td>\n",
       "      <td>1.000000</td>\n",
       "      <td>1.000000</td>\n",
       "    </tr>\n",
       "  </tbody>\n",
       "</table>\n",
       "</div>"
      ],
      "text/plain": [
       "              home       logado      comprou\n",
       "count  1000.000000  1000.000000  1000.000000\n",
       "mean      0.502000     0.509000     0.832000\n",
       "std       0.500246     0.500169     0.374053\n",
       "min       0.000000     0.000000     0.000000\n",
       "25%       0.000000     0.000000     1.000000\n",
       "50%       1.000000     1.000000     1.000000\n",
       "75%       1.000000     1.000000     1.000000\n",
       "max       1.000000     1.000000     1.000000"
      ]
     },
     "execution_count": 5,
     "metadata": {},
     "output_type": "execute_result"
    }
   ],
   "source": [
    "dados.describe()"
   ]
  },
  {
   "cell_type": "code",
   "execution_count": 6,
   "metadata": {},
   "outputs": [
    {
     "data": {
      "text/plain": [
       "home        int64\n",
       "busca      object\n",
       "logado      int64\n",
       "comprou     int64\n",
       "dtype: object"
      ]
     },
     "execution_count": 6,
     "metadata": {},
     "output_type": "execute_result"
    }
   ],
   "source": [
    "dados.dtypes"
   ]
  },
  {
   "cell_type": "code",
   "execution_count": 7,
   "metadata": {},
   "outputs": [
    {
     "data": {
      "text/plain": [
       "home       0\n",
       "busca      0\n",
       "logado     0\n",
       "comprou    0\n",
       "dtype: int64"
      ]
     },
     "execution_count": 7,
     "metadata": {},
     "output_type": "execute_result"
    }
   ],
   "source": [
    "# Verificação da existência de dados missing\n",
    "dados.isna().sum()"
   ]
  },
  {
   "cell_type": "code",
   "execution_count": 8,
   "metadata": {},
   "outputs": [
    {
     "name": "stdout",
     "output_type": "stream",
     "text": [
      "Contagem Comprou(1)/Não Comprou(0)\n",
      "1    832\n",
      "0    168\n",
      "Name: comprou, dtype: int64\n",
      "\n",
      "Porcentagem Comprou(1)/Não Comprou(0)\n",
      "1    83.2\n",
      "0    16.8\n",
      "Name: comprou, dtype: float64\n"
     ]
    }
   ],
   "source": [
    "print('Contagem Comprou(1)/Não Comprou(0)')\n",
    "print(dados.comprou.value_counts())\n",
    "print('')\n",
    "print('Porcentagem Comprou(1)/Não Comprou(0)')\n",
    "print((dados.comprou.value_counts(normalize= True)*100).round(2))"
   ]
  },
  {
   "cell_type": "code",
   "execution_count": 9,
   "metadata": {},
   "outputs": [
    {
     "name": "stdout",
     "output_type": "stream",
     "text": [
      "Contagem Acesso ao Home: Sim(1)/Não(0)\n",
      "1    502\n",
      "0    498\n",
      "Name: home, dtype: int64\n",
      "\n",
      "Porcentagem Acesso ao Home: Sim(1)/Não(0)\n",
      "1    50.2\n",
      "0    49.8\n",
      "Name: home, dtype: float64\n"
     ]
    }
   ],
   "source": [
    "print('Contagem Acesso ao Home: Sim(1)/Não(0)')\n",
    "print(dados.home.value_counts())\n",
    "print('')\n",
    "print('Porcentagem Acesso ao Home: Sim(1)/Não(0)')\n",
    "print((dados.home.value_counts(normalize= True)*100).round(2))"
   ]
  },
  {
   "cell_type": "code",
   "execution_count": 10,
   "metadata": {},
   "outputs": [
    {
     "name": "stdout",
     "output_type": "stream",
     "text": [
      "Contagem Acesso Logado: Sim(1)/Não(0)\n",
      "1    509\n",
      "0    491\n",
      "Name: logado, dtype: int64\n",
      "\n",
      "Porcentagem Acesso Logado: Sim(1)/Não(0)\n",
      "1    50.9\n",
      "0    49.1\n",
      "Name: logado, dtype: float64\n"
     ]
    }
   ],
   "source": [
    "print('Contagem Acesso Logado: Sim(1)/Não(0)')\n",
    "print(dados.logado.value_counts())\n",
    "print('')\n",
    "print('Porcentagem Acesso Logado: Sim(1)/Não(0)')\n",
    "print((dados.logado.value_counts(normalize= True)*100).round(2))"
   ]
  },
  {
   "cell_type": "code",
   "execution_count": 11,
   "metadata": {},
   "outputs": [
    {
     "name": "stdout",
     "output_type": "stream",
     "text": [
      "Contagem busca\n",
      "ruby          361\n",
      "java          327\n",
      "algoritmos    312\n",
      "Name: busca, dtype: int64\n",
      "\n",
      "Porcentagem busca\n",
      "ruby          36.1\n",
      "java          32.7\n",
      "algoritmos    31.2\n",
      "Name: busca, dtype: float64\n"
     ]
    }
   ],
   "source": [
    "print('Contagem busca')\n",
    "print(dados.busca.value_counts())\n",
    "print('')\n",
    "print('Porcentagem busca')\n",
    "print((dados.busca.value_counts(normalize= True)*100).round(2))"
   ]
  },
  {
   "cell_type": "code",
   "execution_count": 12,
   "metadata": {},
   "outputs": [
    {
     "data": {
      "text/html": [
       "<div>\n",
       "<style scoped>\n",
       "    .dataframe tbody tr th:only-of-type {\n",
       "        vertical-align: middle;\n",
       "    }\n",
       "\n",
       "    .dataframe tbody tr th {\n",
       "        vertical-align: top;\n",
       "    }\n",
       "\n",
       "    .dataframe thead th {\n",
       "        text-align: right;\n",
       "    }\n",
       "</style>\n",
       "<table border=\"1\" class=\"dataframe\">\n",
       "  <thead>\n",
       "    <tr style=\"text-align: right;\">\n",
       "      <th></th>\n",
       "      <th></th>\n",
       "      <th>comprou</th>\n",
       "    </tr>\n",
       "    <tr>\n",
       "      <th>busca</th>\n",
       "      <th>comprou</th>\n",
       "      <th></th>\n",
       "    </tr>\n",
       "  </thead>\n",
       "  <tbody>\n",
       "    <tr>\n",
       "      <th rowspan=\"2\" valign=\"top\">algoritmos</th>\n",
       "      <th>1</th>\n",
       "      <td>279</td>\n",
       "    </tr>\n",
       "    <tr>\n",
       "      <th>0</th>\n",
       "      <td>33</td>\n",
       "    </tr>\n",
       "    <tr>\n",
       "      <th>java</th>\n",
       "      <th>1</th>\n",
       "      <td>327</td>\n",
       "    </tr>\n",
       "    <tr>\n",
       "      <th rowspan=\"2\" valign=\"top\">ruby</th>\n",
       "      <th>1</th>\n",
       "      <td>226</td>\n",
       "    </tr>\n",
       "    <tr>\n",
       "      <th>0</th>\n",
       "      <td>135</td>\n",
       "    </tr>\n",
       "  </tbody>\n",
       "</table>\n",
       "</div>"
      ],
      "text/plain": [
       "                    comprou\n",
       "busca      comprou         \n",
       "algoritmos 1            279\n",
       "           0             33\n",
       "java       1            327\n",
       "ruby       1            226\n",
       "           0            135"
      ]
     },
     "metadata": {},
     "output_type": "display_data"
    },
    {
     "data": {
      "text/html": [
       "<div>\n",
       "<style scoped>\n",
       "    .dataframe tbody tr th:only-of-type {\n",
       "        vertical-align: middle;\n",
       "    }\n",
       "\n",
       "    .dataframe tbody tr th {\n",
       "        vertical-align: top;\n",
       "    }\n",
       "\n",
       "    .dataframe thead th {\n",
       "        text-align: right;\n",
       "    }\n",
       "</style>\n",
       "<table border=\"1\" class=\"dataframe\">\n",
       "  <thead>\n",
       "    <tr style=\"text-align: right;\">\n",
       "      <th></th>\n",
       "      <th></th>\n",
       "      <th>comprou</th>\n",
       "    </tr>\n",
       "    <tr>\n",
       "      <th>busca</th>\n",
       "      <th>comprou</th>\n",
       "      <th></th>\n",
       "    </tr>\n",
       "  </thead>\n",
       "  <tbody>\n",
       "    <tr>\n",
       "      <th rowspan=\"2\" valign=\"top\">algoritmos</th>\n",
       "      <th>1</th>\n",
       "      <td>89.42</td>\n",
       "    </tr>\n",
       "    <tr>\n",
       "      <th>0</th>\n",
       "      <td>10.58</td>\n",
       "    </tr>\n",
       "    <tr>\n",
       "      <th>java</th>\n",
       "      <th>1</th>\n",
       "      <td>100.00</td>\n",
       "    </tr>\n",
       "    <tr>\n",
       "      <th rowspan=\"2\" valign=\"top\">ruby</th>\n",
       "      <th>1</th>\n",
       "      <td>62.60</td>\n",
       "    </tr>\n",
       "    <tr>\n",
       "      <th>0</th>\n",
       "      <td>37.40</td>\n",
       "    </tr>\n",
       "  </tbody>\n",
       "</table>\n",
       "</div>"
      ],
      "text/plain": [
       "                    comprou\n",
       "busca      comprou         \n",
       "algoritmos 1          89.42\n",
       "           0          10.58\n",
       "java       1         100.00\n",
       "ruby       1          62.60\n",
       "           0          37.40"
      ]
     },
     "metadata": {},
     "output_type": "display_data"
    }
   ],
   "source": [
    "display(dados.groupby('busca').comprou.value_counts().to_frame())\n",
    "display((dados.groupby('busca').comprou.value_counts(normalize= True).to_frame()*100).round(2))"
   ]
  },
  {
   "cell_type": "code",
   "execution_count": 13,
   "metadata": {
    "scrolled": true
   },
   "outputs": [
    {
     "data": {
      "image/png": "[encoded data removed]",
      "text/plain": [
       "<Figure size 1800x504 with 3 Axes>"
      ]
     },
     "metadata": {},
     "output_type": "display_data"
    }
   ],
   "source": [
    "sns.set_style('darkgrid')\n",
    "def count(titulo, x, xlabel,hue, dados):\n",
    "    ax= sns.countplot(x= x, data= dados, hue= hue)\n",
    "    ax.set_xticklabels(['Não', 'Sim'], fontsize= 14)\n",
    "    ax.set_title(titulo, fontsize= 20)\n",
    "    ax.figure.set_size_inches(25,7)\n",
    "    ax.set_xlabel(xlabel, fontsize= 14)\n",
    "    \n",
    "\n",
    "\n",
    "plt.subplot(1, 3, 1)    \n",
    "count('Compra por Produto', 'comprou','Comprou', 'busca', dados)\n",
    "\n",
    "plt.subplot(1, 3, 2)\n",
    "count('Entrou no Home e comprou?', 'home','Home', 'comprou', dados)\n",
    "\n",
    "plt.subplot(1, 3, 3)\n",
    "count('Estava Logado e comprou? ', 'logado','Logado', 'comprou', dados)"
   ]
  },
  {
   "cell_type": "markdown",
   "metadata": {},
   "source": [
    "## Insights\n",
    "\n",
    "- Não encontramos nenhuma anomalia. Todos os dados são 1 ou 0.\n",
    "- Não possui valores missing.\n",
    "- 83,2% das pessoas compraram algum curso.\n",
    "- Todas as pessoas que procuraram por Java compraram o curso."
   ]
  },
  {
   "cell_type": "markdown",
   "metadata": {},
   "source": [
    "## 4. Preparação dos dados"
   ]
  },
  {
   "cell_type": "markdown",
   "metadata": {},
   "source": [
    "### Selecionando as *features* e ajeitando o dataset\n",
    "\n",
    "A coluna  ```['busca']``` precisa ser transformada em numérica para o modelo conseguir funcionar.\n",
    "\n",
    "Após a transformação, as colunas selecionadas serão ```['home', 'logado', 'algoritmos', 'java', 'ruby']``` e será descartada a coluna ```['busca']``` pois não será mais relevante para o nosso modelo."
   ]
  },
  {
   "cell_type": "code",
   "execution_count": 14,
   "metadata": {},
   "outputs": [
    {
     "data": {
      "text/html": [
       "<div>\n",
       "<style scoped>\n",
       "    .dataframe tbody tr th:only-of-type {\n",
       "        vertical-align: middle;\n",
       "    }\n",
       "\n",
       "    .dataframe tbody tr th {\n",
       "        vertical-align: top;\n",
       "    }\n",
       "\n",
       "    .dataframe thead th {\n",
       "        text-align: right;\n",
       "    }\n",
       "</style>\n",
       "<table border=\"1\" class=\"dataframe\">\n",
       "  <thead>\n",
       "    <tr style=\"text-align: right;\">\n",
       "      <th></th>\n",
       "      <th>home</th>\n",
       "      <th>logado</th>\n",
       "      <th>comprou</th>\n",
       "      <th>algoritmos</th>\n",
       "      <th>java</th>\n",
       "      <th>ruby</th>\n",
       "    </tr>\n",
       "  </thead>\n",
       "  <tbody>\n",
       "    <tr>\n",
       "      <th>0</th>\n",
       "      <td>0</td>\n",
       "      <td>1</td>\n",
       "      <td>1</td>\n",
       "      <td>1</td>\n",
       "      <td>0</td>\n",
       "      <td>0</td>\n",
       "    </tr>\n",
       "    <tr>\n",
       "      <th>1</th>\n",
       "      <td>0</td>\n",
       "      <td>0</td>\n",
       "      <td>1</td>\n",
       "      <td>0</td>\n",
       "      <td>1</td>\n",
       "      <td>0</td>\n",
       "    </tr>\n",
       "    <tr>\n",
       "      <th>2</th>\n",
       "      <td>1</td>\n",
       "      <td>0</td>\n",
       "      <td>1</td>\n",
       "      <td>1</td>\n",
       "      <td>0</td>\n",
       "      <td>0</td>\n",
       "    </tr>\n",
       "    <tr>\n",
       "      <th>3</th>\n",
       "      <td>1</td>\n",
       "      <td>1</td>\n",
       "      <td>0</td>\n",
       "      <td>0</td>\n",
       "      <td>0</td>\n",
       "      <td>1</td>\n",
       "    </tr>\n",
       "    <tr>\n",
       "      <th>4</th>\n",
       "      <td>1</td>\n",
       "      <td>0</td>\n",
       "      <td>1</td>\n",
       "      <td>0</td>\n",
       "      <td>0</td>\n",
       "      <td>1</td>\n",
       "    </tr>\n",
       "  </tbody>\n",
       "</table>\n",
       "</div>"
      ],
      "text/plain": [
       "   home  logado  comprou  algoritmos  java  ruby\n",
       "0     0       1        1           1     0     0\n",
       "1     0       0        1           0     1     0\n",
       "2     1       0        1           1     0     0\n",
       "3     1       1        0           0     0     1\n",
       "4     1       0        1           0     0     1"
      ]
     },
     "execution_count": 14,
     "metadata": {},
     "output_type": "execute_result"
    }
   ],
   "source": [
    "# Transformar a coluna busca em numérica usando get_dummies\n",
    "dummies= dados.busca.str.get_dummies()\n",
    "dados= pd.concat([dados, dummies], axis= 1)\n",
    "\n",
    "# Excluindo a coluna busca que não sera utilizada\n",
    "dados.drop(columns= ['busca'], inplace= True)\n",
    "\n",
    "dados.head()"
   ]
  },
  {
   "cell_type": "code",
   "execution_count": 15,
   "metadata": {},
   "outputs": [
    {
     "name": "stdout",
     "output_type": "stream",
     "text": [
      "(1000,)\n"
     ]
    },
    {
     "data": {
      "text/plain": [
       "(1000, 5)"
      ]
     },
     "execution_count": 15,
     "metadata": {},
     "output_type": "execute_result"
    }
   ],
   "source": [
    "y= dados.comprou\n",
    "x= dados[['home', 'logado', 'algoritmos', 'java', 'ruby']]\n",
    "print(y.shape)\n",
    "x.shape"
   ]
  },
  {
   "cell_type": "markdown",
   "metadata": {},
   "source": [
    "### Valores Missing\n",
    "Quando possuimos valores missing no dataset, nós podemos tratá-los de duas maneiras:\n",
    "* Completar arbitrariamente (média, mediana, moda);\n",
    "* Deletar a linha toda.\n",
    "\n",
    "Como vimos no começo do projeto, o dataset não possui valores nulos, não sendo necessário qualquer tratamento."
   ]
  },
  {
   "cell_type": "markdown",
   "metadata": {},
   "source": [
    "### Matriz de Correlação"
   ]
  },
  {
   "cell_type": "code",
   "execution_count": 16,
   "metadata": {},
   "outputs": [
    {
     "data": {
      "text/html": [
       "<div>\n",
       "<style scoped>\n",
       "    .dataframe tbody tr th:only-of-type {\n",
       "        vertical-align: middle;\n",
       "    }\n",
       "\n",
       "    .dataframe tbody tr th {\n",
       "        vertical-align: top;\n",
       "    }\n",
       "\n",
       "    .dataframe thead th {\n",
       "        text-align: right;\n",
       "    }\n",
       "</style>\n",
       "<table border=\"1\" class=\"dataframe\">\n",
       "  <thead>\n",
       "    <tr style=\"text-align: right;\">\n",
       "      <th></th>\n",
       "      <th>home</th>\n",
       "      <th>logado</th>\n",
       "      <th>comprou</th>\n",
       "      <th>algoritmos</th>\n",
       "      <th>java</th>\n",
       "      <th>ruby</th>\n",
       "    </tr>\n",
       "  </thead>\n",
       "  <tbody>\n",
       "    <tr>\n",
       "      <th>home</th>\n",
       "      <td>1.000000</td>\n",
       "      <td>0.009930</td>\n",
       "      <td>-0.131941</td>\n",
       "      <td>-0.007010</td>\n",
       "      <td>-0.026237</td>\n",
       "      <td>0.032389</td>\n",
       "    </tr>\n",
       "    <tr>\n",
       "      <th>logado</th>\n",
       "      <td>0.009930</td>\n",
       "      <td>1.000000</td>\n",
       "      <td>0.195353</td>\n",
       "      <td>-0.012123</td>\n",
       "      <td>0.002375</td>\n",
       "      <td>0.009375</td>\n",
       "    </tr>\n",
       "    <tr>\n",
       "      <th>comprou</th>\n",
       "      <td>-0.131941</td>\n",
       "      <td>0.195353</td>\n",
       "      <td>1.000000</td>\n",
       "      <td>0.112091</td>\n",
       "      <td>0.313227</td>\n",
       "      <td>-0.414069</td>\n",
       "    </tr>\n",
       "    <tr>\n",
       "      <th>algoritmos</th>\n",
       "      <td>-0.007010</td>\n",
       "      <td>-0.012123</td>\n",
       "      <td>0.112091</td>\n",
       "      <td>1.000000</td>\n",
       "      <td>-0.469407</td>\n",
       "      <td>-0.506158</td>\n",
       "    </tr>\n",
       "    <tr>\n",
       "      <th>java</th>\n",
       "      <td>-0.026237</td>\n",
       "      <td>0.002375</td>\n",
       "      <td>0.313227</td>\n",
       "      <td>-0.469407</td>\n",
       "      <td>1.000000</td>\n",
       "      <td>-0.523925</td>\n",
       "    </tr>\n",
       "    <tr>\n",
       "      <th>ruby</th>\n",
       "      <td>0.032389</td>\n",
       "      <td>0.009375</td>\n",
       "      <td>-0.414069</td>\n",
       "      <td>-0.506158</td>\n",
       "      <td>-0.523925</td>\n",
       "      <td>1.000000</td>\n",
       "    </tr>\n",
       "  </tbody>\n",
       "</table>\n",
       "</div>"
      ],
      "text/plain": [
       "                home    logado   comprou  algoritmos      java      ruby\n",
       "home        1.000000  0.009930 -0.131941   -0.007010 -0.026237  0.032389\n",
       "logado      0.009930  1.000000  0.195353   -0.012123  0.002375  0.009375\n",
       "comprou    -0.131941  0.195353  1.000000    0.112091  0.313227 -0.414069\n",
       "algoritmos -0.007010 -0.012123  0.112091    1.000000 -0.469407 -0.506158\n",
       "java       -0.026237  0.002375  0.313227   -0.469407  1.000000 -0.523925\n",
       "ruby        0.032389  0.009375 -0.414069   -0.506158 -0.523925  1.000000"
      ]
     },
     "execution_count": 16,
     "metadata": {},
     "output_type": "execute_result"
    }
   ],
   "source": [
    "corr= dados.corr()\n",
    "corr"
   ]
  },
  {
   "cell_type": "code",
   "execution_count": 17,
   "metadata": {},
   "outputs": [
    {
     "data": {
      "text/plain": [
       "<matplotlib.axes._subplots.AxesSubplot at 0x1c838c01430>"
      ]
     },
     "execution_count": 17,
     "metadata": {},
     "output_type": "execute_result"
    },
    {
     "data": {
      "image/png": "[encoded data removed]",
      "text/plain": [
       "<Figure size 432x288 with 2 Axes>"
      ]
     },
     "metadata": {},
     "output_type": "display_data"
    }
   ],
   "source": [
    "sns.heatmap(corr, cmap= 'YlOrRd', annot= True, linewidths= 1)"
   ]
  },
  {
   "cell_type": "markdown",
   "metadata": {},
   "source": [
    "**Conclusões**\n",
    "\n",
    "- Nenhuma variável independente tem forte correlação com outra.\n",
    "- A variável alvo(comprou) possui uma correlação um mais forte com 'java' e 'logado' em relação as outras, porém essa correlação ainda pode ser considerada como média pra baixa."
   ]
  },
  {
   "cell_type": "markdown",
   "metadata": {},
   "source": [
    "### Separando o dataset em Treino e Teste\n",
    "Para que possamos fazer previsões, precisamos separar o nosso conjunto de dados entre treino e teste."
   ]
  },
  {
   "cell_type": "code",
   "execution_count": 18,
   "metadata": {},
   "outputs": [],
   "source": [
    "# Definindo o seed global\n",
    "seed= 123\n",
    "np.random.seed(seed)\n",
    "\n",
    "x_train, x_test, y_train, y_test= train_test_split(x, y, test_size= 0.3, stratify= y)"
   ]
  },
  {
   "cell_type": "markdown",
   "metadata": {},
   "source": [
    "## 5. Construção do modelo de Machine Learning\n",
    "\n",
    "Após entendermos melhor nossos dados, a realidade da empresa e prepararmos nossos dados, é hora de utilizarmos Machine Learning para fazer previsões que podem nos ajudar a prever a venda ou não dos carros.\n",
    "\n",
    "Para isso, avaliaremos a accurácia de 6 modelos diferentes de Machine Learning:\n",
    "\n",
    ">* LogisticRegression\n",
    ">* RandomForest\n",
    ">* DecisionTree\n",
    ">* KNeighbors\n",
    ">* SVC\n",
    ">* AdaBoost\n",
    "\n",
    "\n",
    "### Classificador  'Burro' (Dummy Classifier)\n",
    "\n",
    "O classificador dummy nada mais é do que um classificador que utiliza regras básicas. Em outras palavras, ele vai usar algum preditor 'burro' como por exemplo predizer que todos os valores serão iguais a zero – ou a um, dependendo de qual for o mais frequente. Serve como uma linha base para classificar se o modelo de Machine Learning teve uma boa acurácia ou não.\n",
    "\n",
    "\n",
    "### Validação Cruzada(Cross-Validation)\n",
    "\n",
    "Para o resultado ser fiel a realidade e não ficar refém da sorte de uma aleatóriedade, utilizaremos validação cruzada. Para saber mais como funciona essa técnica, leia [este artigo](https://minerandodados.com.br/validacao-cruzada-aprenda-de-forma-simples-como-usar-essa-tecnica/#:~:text=A%20valida%C3%A7%C3%A3o%20cruzada%20%C3%A9%20uma,da%20modelagem%20%C3%A9%20a%20predi%C3%A7%C3%A3o.).\n",
    "\n",
    "\n",
    "Nesse projeto iremos utilizar o KFold com o numero de folders igual a 10.\n",
    "\n",
    "\n",
    "### Distribuição Normal\n",
    "\n",
    "\n",
    "Uma das propriedades da distibuição normal é que a média somada com duas vezes o desvio padrão é igual ao percentil 97,5 e a média subtraída de 2 vezes o desvio padrão é igual ao percentil 2,5. Assim, podemos dizer que a média mais ou menos dois desvios padrões é o intervalo que contém 95% dos dados da amostra."
   ]
  },
  {
   "cell_type": "code",
   "execution_count": 19,
   "metadata": {},
   "outputs": [
    {
     "name": "stdout",
     "output_type": "stream",
     "text": [
      "Linha base: 83.33%\n"
     ]
    }
   ],
   "source": [
    "# Classificador Burro\n",
    "# Vamos utilizar a estratégia de maior frequência\n",
    "# Nesse caso, 'chutaremos' como se todos os cursos tivessem sido vendidos(1)\n",
    "\n",
    "dummy= DummyClassifier(strategy= 'most_frequent')\n",
    "dummy.fit(x_train, y_train)\n",
    "print('Linha base: {:.2f}%'.format(dummy.score(x_test, y_test)*100))"
   ]
  },
  {
   "cell_type": "code",
   "execution_count": 20,
   "metadata": {},
   "outputs": [
    {
     "data": {
      "text/plain": [
       "[('LogisticRegression', LogisticRegression()),\n",
       " ('RandomForest', RandomForestClassifier()),\n",
       " ('DecisionTree', DecisionTreeClassifier()),\n",
       " ('KNeighbors', KNeighborsClassifier()),\n",
       " ('SVC', SVC()),\n",
       " ('AdaBoost', AdaBoostClassifier())]"
      ]
     },
     "execution_count": 20,
     "metadata": {},
     "output_type": "execute_result"
    }
   ],
   "source": [
    "models= []\n",
    "\n",
    "models.append(('LogisticRegression', LogisticRegression()))\n",
    "models.append(('RandomForest', RandomForestClassifier()))\n",
    "models.append(('DecisionTree', DecisionTreeClassifier()))\n",
    "models.append(('KNeighbors', KNeighborsClassifier()))\n",
    "models.append(('SVC', SVC()))\n",
    "models.append(('AdaBoost', AdaBoostClassifier()))\n",
    "models"
   ]
  },
  {
   "cell_type": "code",
   "execution_count": 21,
   "metadata": {},
   "outputs": [
    {
     "name": "stdout",
     "output_type": "stream",
     "text": [
      "LogisticRegression : Acurácia média 84.14% , Desvio Padrão 3.58 , Faxa de resultados [76.98 - 91.31]\n",
      "RandomForest       : Acurácia média 84.14% , Desvio Padrão 6.01 , Faxa de resultados [72.13 - 96.16]\n",
      "DecisionTree       : Acurácia média 84.14% , Desvio Padrão 3.86 , Faxa de resultados [76.43 - 91.86]\n",
      "KNeighbors         : Acurácia média 81.86% , Desvio Padrão 7.17 , Faxa de resultados [67.51 - 96.20]\n",
      "SVC                : Acurácia média 84.14% , Desvio Padrão 2.96 , Faxa de resultados [78.23 - 90.06]\n",
      "AdaBoost           : Acurácia média 83.43% , Desvio Padrão 3.63 , Faxa de resultados [76.18 - 90.68]\n"
     ]
    }
   ],
   "source": [
    "np.random.seed(seed)\n",
    "\n",
    "num_folders= 10\n",
    "scoring= 'accuracy'\n",
    "results= []\n",
    "names= []\n",
    "\n",
    "for name, model in models:\n",
    "    modelo= model\n",
    "    kfold= KFold(n_splits= num_folders, shuffle= True)\n",
    "    cv_results= cross_val_score(estimator= modelo, X= x_train, y= y_train, cv= kfold, scoring= scoring)*100\n",
    "    results.append(cv_results)\n",
    "    names.append(name)\n",
    "    media= cv_results.mean()\n",
    "    std= cv_results.std()\n",
    "    print('{:18} : Acurácia média {:.2f}% , Desvio Padrão {:.2f} , Faxa de resultados [{:.2f} - {:.2f}]'.format(\n",
    "        name, media, std, media-2*std, media+2*std))"
   ]
  },
  {
   "cell_type": "markdown",
   "metadata": {},
   "source": [
    "### Avaliação do resultado\n",
    "\n",
    "Os resultados dos modelos foram bem próximos ao da nossa linha base (83,33%).\n",
    "Tivemos 4 modelos com a mesma média de acurácia. ````LogisticRegression, RandomForest, DecisionTree e SVC````\n",
    "\n",
    "Os modelos ````SVC e LogisticRegression ```` tiveram os menores desvio padrão.\n",
    "\n",
    "Vamos buscar os melhores parâmetros dos dois modelos acima, para tentar aumentar a acurácia média."
   ]
  },
  {
   "cell_type": "markdown",
   "metadata": {},
   "source": [
    "## GridSearchCV\n",
    "\n",
    "Sendo os dois modelos ````SVC e LogisticRegression ```` como os mais prolíficos, vamos analisar cada um utilizando o GridSearchCV para tentar encontrar os melhores parâmetros.\n",
    "\n",
    ">* O GridSearchCV é uma ferramenta usada para automatizar o processo de ajuste dos parâmetros de um algoritmo, pois ele fará de maneira sistemática diversas combinações dos parâmetros e depois de avaliá-los os armazenará num único objeto.\n",
    "Para saber mais, leia [este artigo](https://andersonuyekita.github.io/notebooks/blog/2019/03/21/como-usar-o-gridsearchcv/#:~:text=O%20GridSearchCV%20%C3%A9%20uma%20ferramenta,os%20armazenar%C3%A1%20num%20%C3%BAnico%20objeto.)."
   ]
  },
  {
   "cell_type": "markdown",
   "metadata": {},
   "source": [
    "### LogisticRegression\n",
    "\n",
    "Vamos analisar os seguintes parâmetros desse modelo, sendo os valores em negrito os Default:\n",
    "\n",
    "- C = 0.1, 0.5, **1**, 1.5, 2\n",
    "- solver = newton-cg, **lbfgs**, liblinear, sag, saga\n",
    "- max_iter = 25, 50, **100**, 150, 200"
   ]
  },
  {
   "cell_type": "code",
   "execution_count": 22,
   "metadata": {
    "scrolled": true
   },
   "outputs": [
    {
     "name": "stdout",
     "output_type": "stream",
     "text": [
      "Melhor acurácia : 84.14% com os parâmetros {'C': 0.5, 'max_iter': 25, 'solver': 'newton-cg'}\n",
      "83.14% (3.25%) : {'C': 0.1, 'max_iter': 25, 'solver': 'newton-cg'}\n",
      "83.14% (3.25%) : {'C': 0.1, 'max_iter': 25, 'solver': 'lbfgs'}\n",
      "83.14% (3.25%) : {'C': 0.1, 'max_iter': 25, 'solver': 'liblinear'}\n",
      "83.14% (3.25%) : {'C': 0.1, 'max_iter': 25, 'solver': 'sag'}\n",
      "83.14% (3.25%) : {'C': 0.1, 'max_iter': 25, 'solver': 'saga'}\n",
      "83.14% (3.25%) : {'C': 0.1, 'max_iter': 50, 'solver': 'newton-cg'}\n",
      "83.14% (3.25%) : {'C': 0.1, 'max_iter': 50, 'solver': 'lbfgs'}\n",
      "83.14% (3.25%) : {'C': 0.1, 'max_iter': 50, 'solver': 'liblinear'}\n",
      "83.14% (3.25%) : {'C': 0.1, 'max_iter': 50, 'solver': 'sag'}\n",
      "83.14% (3.25%) : {'C': 0.1, 'max_iter': 50, 'solver': 'saga'}\n",
      "83.14% (3.25%) : {'C': 0.1, 'max_iter': 100, 'solver': 'newton-cg'}\n",
      "83.14% (3.25%) : {'C': 0.1, 'max_iter': 100, 'solver': 'lbfgs'}\n",
      "83.14% (3.25%) : {'C': 0.1, 'max_iter': 100, 'solver': 'liblinear'}\n",
      "83.14% (3.25%) : {'C': 0.1, 'max_iter': 100, 'solver': 'sag'}\n",
      "83.14% (3.25%) : {'C': 0.1, 'max_iter': 100, 'solver': 'saga'}\n",
      "83.14% (3.25%) : {'C': 0.1, 'max_iter': 150, 'solver': 'newton-cg'}\n",
      "83.14% (3.25%) : {'C': 0.1, 'max_iter': 150, 'solver': 'lbfgs'}\n",
      "83.14% (3.25%) : {'C': 0.1, 'max_iter': 150, 'solver': 'liblinear'}\n",
      "83.14% (3.25%) : {'C': 0.1, 'max_iter': 150, 'solver': 'sag'}\n",
      "83.14% (3.25%) : {'C': 0.1, 'max_iter': 150, 'solver': 'saga'}\n",
      "83.14% (3.25%) : {'C': 0.1, 'max_iter': 200, 'solver': 'newton-cg'}\n",
      "83.14% (3.25%) : {'C': 0.1, 'max_iter': 200, 'solver': 'lbfgs'}\n",
      "83.14% (3.25%) : {'C': 0.1, 'max_iter': 200, 'solver': 'liblinear'}\n",
      "83.14% (3.25%) : {'C': 0.1, 'max_iter': 200, 'solver': 'sag'}\n",
      "83.14% (3.25%) : {'C': 0.1, 'max_iter': 200, 'solver': 'saga'}\n",
      "84.14% (3.58%) : {'C': 0.5, 'max_iter': 25, 'solver': 'newton-cg'}\n",
      "84.14% (3.58%) : {'C': 0.5, 'max_iter': 25, 'solver': 'lbfgs'}\n",
      "84.14% (3.58%) : {'C': 0.5, 'max_iter': 25, 'solver': 'liblinear'}\n",
      "84.14% (3.58%) : {'C': 0.5, 'max_iter': 25, 'solver': 'sag'}\n",
      "84.14% (3.58%) : {'C': 0.5, 'max_iter': 25, 'solver': 'saga'}\n",
      "84.14% (3.58%) : {'C': 0.5, 'max_iter': 50, 'solver': 'newton-cg'}\n",
      "84.14% (3.58%) : {'C': 0.5, 'max_iter': 50, 'solver': 'lbfgs'}\n",
      "84.14% (3.58%) : {'C': 0.5, 'max_iter': 50, 'solver': 'liblinear'}\n",
      "84.14% (3.58%) : {'C': 0.5, 'max_iter': 50, 'solver': 'sag'}\n",
      "84.14% (3.58%) : {'C': 0.5, 'max_iter': 50, 'solver': 'saga'}\n",
      "84.14% (3.58%) : {'C': 0.5, 'max_iter': 100, 'solver': 'newton-cg'}\n",
      "84.14% (3.58%) : {'C': 0.5, 'max_iter': 100, 'solver': 'lbfgs'}\n",
      "84.14% (3.58%) : {'C': 0.5, 'max_iter': 100, 'solver': 'liblinear'}\n",
      "84.14% (3.58%) : {'C': 0.5, 'max_iter': 100, 'solver': 'sag'}\n",
      "84.14% (3.58%) : {'C': 0.5, 'max_iter': 100, 'solver': 'saga'}\n",
      "84.14% (3.58%) : {'C': 0.5, 'max_iter': 150, 'solver': 'newton-cg'}\n",
      "84.14% (3.58%) : {'C': 0.5, 'max_iter': 150, 'solver': 'lbfgs'}\n",
      "84.14% (3.58%) : {'C': 0.5, 'max_iter': 150, 'solver': 'liblinear'}\n",
      "84.14% (3.58%) : {'C': 0.5, 'max_iter': 150, 'solver': 'sag'}\n",
      "84.14% (3.58%) : {'C': 0.5, 'max_iter': 150, 'solver': 'saga'}\n",
      "84.14% (3.58%) : {'C': 0.5, 'max_iter': 200, 'solver': 'newton-cg'}\n",
      "84.14% (3.58%) : {'C': 0.5, 'max_iter': 200, 'solver': 'lbfgs'}\n",
      "84.14% (3.58%) : {'C': 0.5, 'max_iter': 200, 'solver': 'liblinear'}\n",
      "84.14% (3.58%) : {'C': 0.5, 'max_iter': 200, 'solver': 'sag'}\n",
      "84.14% (3.58%) : {'C': 0.5, 'max_iter': 200, 'solver': 'saga'}\n",
      "84.14% (3.58%) : {'C': 1, 'max_iter': 25, 'solver': 'newton-cg'}\n",
      "84.14% (3.58%) : {'C': 1, 'max_iter': 25, 'solver': 'lbfgs'}\n",
      "84.14% (3.58%) : {'C': 1, 'max_iter': 25, 'solver': 'liblinear'}\n",
      "84.14% (3.58%) : {'C': 1, 'max_iter': 25, 'solver': 'sag'}\n",
      "84.14% (3.58%) : {'C': 1, 'max_iter': 25, 'solver': 'saga'}\n",
      "84.14% (3.58%) : {'C': 1, 'max_iter': 50, 'solver': 'newton-cg'}\n",
      "84.14% (3.58%) : {'C': 1, 'max_iter': 50, 'solver': 'lbfgs'}\n",
      "84.14% (3.58%) : {'C': 1, 'max_iter': 50, 'solver': 'liblinear'}\n",
      "84.14% (3.58%) : {'C': 1, 'max_iter': 50, 'solver': 'sag'}\n",
      "84.14% (3.58%) : {'C': 1, 'max_iter': 50, 'solver': 'saga'}\n",
      "84.14% (3.58%) : {'C': 1, 'max_iter': 100, 'solver': 'newton-cg'}\n",
      "84.14% (3.58%) : {'C': 1, 'max_iter': 100, 'solver': 'lbfgs'}\n",
      "84.14% (3.58%) : {'C': 1, 'max_iter': 100, 'solver': 'liblinear'}\n",
      "84.14% (3.58%) : {'C': 1, 'max_iter': 100, 'solver': 'sag'}\n",
      "84.14% (3.58%) : {'C': 1, 'max_iter': 100, 'solver': 'saga'}\n",
      "84.14% (3.58%) : {'C': 1, 'max_iter': 150, 'solver': 'newton-cg'}\n",
      "84.14% (3.58%) : {'C': 1, 'max_iter': 150, 'solver': 'lbfgs'}\n",
      "84.14% (3.58%) : {'C': 1, 'max_iter': 150, 'solver': 'liblinear'}\n",
      "84.14% (3.58%) : {'C': 1, 'max_iter': 150, 'solver': 'sag'}\n",
      "84.14% (3.58%) : {'C': 1, 'max_iter': 150, 'solver': 'saga'}\n",
      "84.14% (3.58%) : {'C': 1, 'max_iter': 200, 'solver': 'newton-cg'}\n",
      "84.14% (3.58%) : {'C': 1, 'max_iter': 200, 'solver': 'lbfgs'}\n",
      "84.14% (3.58%) : {'C': 1, 'max_iter': 200, 'solver': 'liblinear'}\n",
      "84.14% (3.58%) : {'C': 1, 'max_iter': 200, 'solver': 'sag'}\n",
      "84.14% (3.58%) : {'C': 1, 'max_iter': 200, 'solver': 'saga'}\n",
      "84.14% (3.58%) : {'C': 1.5, 'max_iter': 25, 'solver': 'newton-cg'}\n",
      "84.14% (3.58%) : {'C': 1.5, 'max_iter': 25, 'solver': 'lbfgs'}\n",
      "84.14% (3.58%) : {'C': 1.5, 'max_iter': 25, 'solver': 'liblinear'}\n",
      "84.14% (3.58%) : {'C': 1.5, 'max_iter': 25, 'solver': 'sag'}\n",
      "84.14% (3.58%) : {'C': 1.5, 'max_iter': 25, 'solver': 'saga'}\n",
      "84.14% (3.58%) : {'C': 1.5, 'max_iter': 50, 'solver': 'newton-cg'}\n",
      "84.14% (3.58%) : {'C': 1.5, 'max_iter': 50, 'solver': 'lbfgs'}\n",
      "84.14% (3.58%) : {'C': 1.5, 'max_iter': 50, 'solver': 'liblinear'}\n",
      "84.14% (3.58%) : {'C': 1.5, 'max_iter': 50, 'solver': 'sag'}\n",
      "84.14% (3.58%) : {'C': 1.5, 'max_iter': 50, 'solver': 'saga'}\n",
      "84.14% (3.58%) : {'C': 1.5, 'max_iter': 100, 'solver': 'newton-cg'}\n",
      "84.14% (3.58%) : {'C': 1.5, 'max_iter': 100, 'solver': 'lbfgs'}\n",
      "84.14% (3.58%) : {'C': 1.5, 'max_iter': 100, 'solver': 'liblinear'}\n",
      "84.14% (3.58%) : {'C': 1.5, 'max_iter': 100, 'solver': 'sag'}\n",
      "84.14% (3.58%) : {'C': 1.5, 'max_iter': 100, 'solver': 'saga'}\n",
      "84.14% (3.58%) : {'C': 1.5, 'max_iter': 150, 'solver': 'newton-cg'}\n",
      "84.14% (3.58%) : {'C': 1.5, 'max_iter': 150, 'solver': 'lbfgs'}\n",
      "84.14% (3.58%) : {'C': 1.5, 'max_iter': 150, 'solver': 'liblinear'}\n",
      "84.14% (3.58%) : {'C': 1.5, 'max_iter': 150, 'solver': 'sag'}\n",
      "84.14% (3.58%) : {'C': 1.5, 'max_iter': 150, 'solver': 'saga'}\n",
      "84.14% (3.58%) : {'C': 1.5, 'max_iter': 200, 'solver': 'newton-cg'}\n",
      "84.14% (3.58%) : {'C': 1.5, 'max_iter': 200, 'solver': 'lbfgs'}\n",
      "84.14% (3.58%) : {'C': 1.5, 'max_iter': 200, 'solver': 'liblinear'}\n",
      "84.14% (3.58%) : {'C': 1.5, 'max_iter': 200, 'solver': 'sag'}\n",
      "84.14% (3.58%) : {'C': 1.5, 'max_iter': 200, 'solver': 'saga'}\n",
      "84.14% (3.58%) : {'C': 2, 'max_iter': 25, 'solver': 'newton-cg'}\n",
      "84.14% (3.58%) : {'C': 2, 'max_iter': 25, 'solver': 'lbfgs'}\n",
      "84.14% (3.58%) : {'C': 2, 'max_iter': 25, 'solver': 'liblinear'}\n",
      "84.14% (3.58%) : {'C': 2, 'max_iter': 25, 'solver': 'sag'}\n",
      "84.14% (3.58%) : {'C': 2, 'max_iter': 25, 'solver': 'saga'}\n",
      "84.14% (3.58%) : {'C': 2, 'max_iter': 50, 'solver': 'newton-cg'}\n",
      "84.14% (3.58%) : {'C': 2, 'max_iter': 50, 'solver': 'lbfgs'}\n",
      "84.14% (3.58%) : {'C': 2, 'max_iter': 50, 'solver': 'liblinear'}\n",
      "84.14% (3.58%) : {'C': 2, 'max_iter': 50, 'solver': 'sag'}\n",
      "84.14% (3.58%) : {'C': 2, 'max_iter': 50, 'solver': 'saga'}\n",
      "84.14% (3.58%) : {'C': 2, 'max_iter': 100, 'solver': 'newton-cg'}\n",
      "84.14% (3.58%) : {'C': 2, 'max_iter': 100, 'solver': 'lbfgs'}\n",
      "84.14% (3.58%) : {'C': 2, 'max_iter': 100, 'solver': 'liblinear'}\n",
      "84.14% (3.58%) : {'C': 2, 'max_iter': 100, 'solver': 'sag'}\n",
      "84.14% (3.58%) : {'C': 2, 'max_iter': 100, 'solver': 'saga'}\n",
      "84.14% (3.58%) : {'C': 2, 'max_iter': 150, 'solver': 'newton-cg'}\n",
      "84.14% (3.58%) : {'C': 2, 'max_iter': 150, 'solver': 'lbfgs'}\n",
      "84.14% (3.58%) : {'C': 2, 'max_iter': 150, 'solver': 'liblinear'}\n",
      "84.14% (3.58%) : {'C': 2, 'max_iter': 150, 'solver': 'sag'}\n",
      "84.14% (3.58%) : {'C': 2, 'max_iter': 150, 'solver': 'saga'}\n",
      "84.14% (3.58%) : {'C': 2, 'max_iter': 200, 'solver': 'newton-cg'}\n",
      "84.14% (3.58%) : {'C': 2, 'max_iter': 200, 'solver': 'lbfgs'}\n",
      "84.14% (3.58%) : {'C': 2, 'max_iter': 200, 'solver': 'liblinear'}\n",
      "84.14% (3.58%) : {'C': 2, 'max_iter': 200, 'solver': 'sag'}\n",
      "84.14% (3.58%) : {'C': 2, 'max_iter': 200, 'solver': 'saga'}\n"
     ]
    }
   ],
   "source": [
    "# Retirar os warnings no output\n",
    "warnings.simplefilter(\"ignore\")\n",
    "\n",
    "np.random.seed(seed)\n",
    "\n",
    "# Parâmetros\n",
    "c_values= [0.1, 0.5, 1, 1.5, 2]\n",
    "solver_values= ['newton-cg', 'lbfgs', 'liblinear', 'sag', 'saga']\n",
    "max_iter_values= [25, 50, 100, 150, 200]\n",
    "params_values= dict(C= c_values, solver= solver_values, max_iter= max_iter_values)\n",
    "\n",
    "modelo= LogisticRegression()\n",
    "kfold= KFold(n_splits= num_folders, shuffle= True)\n",
    "grid= GridSearchCV(estimator= modelo, param_grid= params_values, cv= kfold, scoring= scoring)\n",
    "grid_results= grid.fit(x_train, y_train)\n",
    "print('Melhor acurácia : {:.2f}% com os parâmetros {}'.format(grid_results.best_score_*100, grid_results.best_params_))\n",
    "\n",
    "means= grid_results.cv_results_['mean_test_score']*100\n",
    "stds= grid_results.cv_results_['std_test_score']*100\n",
    "params= grid_results.cv_results_['params']\n",
    "for mean, std, param in zip(means,stds,params):\n",
    "    print('{:.2f}% ({:.2f}%) : {}'.format(mean,std,param))"
   ]
  },
  {
   "cell_type": "code",
   "execution_count": 23,
   "metadata": {},
   "outputs": [],
   "source": [
    "# Utilizando os melhores parâmetros de acordo com o treino nos dados de teste.\n",
    "\n",
    "modelo= LogisticRegression(C= 0.5, max_iter= 25, solver= 'newton-cg')\n",
    "modelo.fit(x_train, y_train)\n",
    "y_prev_logistic= modelo.predict(x_test)"
   ]
  },
  {
   "cell_type": "code",
   "execution_count": 24,
   "metadata": {},
   "outputs": [
    {
     "name": "stdout",
     "output_type": "stream",
     "text": [
      "Relatório de Classificação:\n",
      "               precision    recall  f1-score   support\n",
      "\n",
      "           0     0.7600    0.3800    0.5067        50\n",
      "           1     0.8873    0.9760    0.9295       250\n",
      "\n",
      "    accuracy                         0.8767       300\n",
      "   macro avg     0.8236    0.6780    0.7181       300\n",
      "weighted avg     0.8661    0.8767    0.8590       300\n",
      "\n",
      "Acurácia: 87.67%\n",
      "\n"
     ]
    },
    {
     "data": {
      "image/png": "[encoded data removed]",
      "text/plain": [
       "<Figure size 432x288 with 2 Axes>"
      ]
     },
     "metadata": {},
     "output_type": "display_data"
    },
    {
     "data": {
      "text/plain": [
       "<Figure size 360x360 with 0 Axes>"
      ]
     },
     "metadata": {},
     "output_type": "display_data"
    },
    {
     "data": {
      "image/png": "[encoded data removed]",
      "text/plain": [
       "<Figure size 432x288 with 2 Axes>"
      ]
     },
     "metadata": {},
     "output_type": "display_data"
    },
    {
     "data": {
      "text/plain": [
       "<Figure size 360x360 with 0 Axes>"
      ]
     },
     "metadata": {},
     "output_type": "display_data"
    }
   ],
   "source": [
    "# Imprimindo o Relatório de Classificação\n",
    "print(\"Relatório de Classificação:\\n\", classification_report(y_test, y_prev_logistic, digits=4))\n",
    "\n",
    "# Imprimindo a Acurácia\n",
    "print(\"Acurácia: {:.2f}%\\n\".format(accuracy_score(y_test, y_prev_logistic)*100))\n",
    " \n",
    "\n",
    "# Plotando a matrix de confusão\n",
    "cm= confusion_matrix(y_test, y_prev_logistic)\n",
    "labels= ['Não', 'Sim']\n",
    "cmd= ConfusionMatrixDisplay(cm, display_labels= labels)\n",
    "cmd.plot(cmap= 'YlOrRd')\n",
    "plt.title('Matriz de Confusão', fontsize= 16)\n",
    "plt.figure(figsize= (5,5))\n",
    "plt.show()\n",
    "\n",
    "# Plotando a matrix de confusão em porcentagem\n",
    "cm= confusion_matrix(y_test, y_prev_logistic, normalize= 'true')\n",
    "labels= ['Não', 'Sim']\n",
    "cmd= ConfusionMatrixDisplay(cm, display_labels= labels)\n",
    "cmd.plot(cmap= 'YlOrRd')\n",
    "plt.title('Matriz de Confusão - Porcentagem', fontsize= 16)\n",
    "plt.figure(figsize= (5,5))\n",
    "plt.show()"
   ]
  },
  {
   "cell_type": "markdown",
   "metadata": {},
   "source": [
    "### Insights\n",
    "\n",
    "- O modelo foi melhor do que o esperado, pois nos treinos a acurácia ficou em 84.14% e no teste 87.67%\n",
    "- Com a matriz de confusão, conseguimos visualizar que o maior erro no modelo se dá com os falsos positivos, onde a pessoa não compra o curso mas o modelo prevê que sim."
   ]
  },
  {
   "cell_type": "markdown",
   "metadata": {},
   "source": [
    "### SVC"
   ]
  },
  {
   "cell_type": "code",
   "execution_count": 25,
   "metadata": {},
   "outputs": [
    {
     "name": "stdout",
     "output_type": "stream",
     "text": [
      "Melhor acurácia : 84.14% com os parâmetros {'C': 0.1, 'kernel': 'poly'}\n",
      "83.14% (3.25%) : {'C': 0.1, 'kernel': 'linear'}\n",
      "84.14% (3.58%) : {'C': 0.1, 'kernel': 'poly'}\n",
      "83.14% (3.25%) : {'C': 0.1, 'kernel': 'rbf'}\n",
      "83.14% (3.25%) : {'C': 0.1, 'kernel': 'sigmoid'}\n",
      "83.14% (3.25%) : {'C': 0.5, 'kernel': 'linear'}\n",
      "84.14% (3.58%) : {'C': 0.5, 'kernel': 'poly'}\n",
      "84.14% (3.58%) : {'C': 0.5, 'kernel': 'rbf'}\n",
      "80.57% (3.51%) : {'C': 0.5, 'kernel': 'sigmoid'}\n",
      "83.14% (3.25%) : {'C': 1, 'kernel': 'linear'}\n",
      "84.14% (3.58%) : {'C': 1, 'kernel': 'poly'}\n",
      "84.14% (3.58%) : {'C': 1, 'kernel': 'rbf'}\n",
      "80.43% (3.50%) : {'C': 1, 'kernel': 'sigmoid'}\n",
      "83.14% (3.25%) : {'C': 1.5, 'kernel': 'linear'}\n",
      "84.14% (3.58%) : {'C': 1.5, 'kernel': 'poly'}\n",
      "84.14% (3.58%) : {'C': 1.5, 'kernel': 'rbf'}\n",
      "80.29% (3.82%) : {'C': 1.5, 'kernel': 'sigmoid'}\n",
      "82.43% (3.94%) : {'C': 2, 'kernel': 'linear'}\n",
      "84.14% (3.58%) : {'C': 2, 'kernel': 'poly'}\n",
      "84.14% (3.58%) : {'C': 2, 'kernel': 'rbf'}\n",
      "80.43% (3.67%) : {'C': 2, 'kernel': 'sigmoid'}\n"
     ]
    }
   ],
   "source": [
    "np.random.seed(seed)\n",
    "\n",
    "c_values= [0.1, 0.5, 1, 1.5, 2]\n",
    "kernel_values= ['linear', 'poly', 'rbf', 'sigmoid']\n",
    "params_values= dict(C= c_values, kernel= kernel_values)\n",
    "\n",
    "modelo= SVC()\n",
    "kfold= KFold(n_splits= num_folders, shuffle= True)\n",
    "grid= GridSearchCV(estimator= modelo, param_grid= params_values, cv= kfold, scoring= scoring)\n",
    "grid_results= grid.fit(x_train, y_train)\n",
    "print('Melhor acurácia : {:.2f}% com os parâmetros {}'.format(grid_results.best_score_*100, grid_results.best_params_))\n",
    "\n",
    "means= grid_results.cv_results_['mean_test_score']*100\n",
    "stds= grid_results.cv_results_['std_test_score']*100\n",
    "params= grid_results.cv_results_['params']\n",
    "for mean, std, param in zip(means,stds,params):\n",
    "    print('{:.2f}% ({:.2f}%) : {}'.format(mean,std,param))"
   ]
  },
  {
   "cell_type": "code",
   "execution_count": 26,
   "metadata": {},
   "outputs": [],
   "source": [
    "# Utilizando os melhores parâmetros de acordo com o treino nos dados de teste.\n",
    "\n",
    "modelo= SVC(C= 0.1, kernel= 'poly')\n",
    "modelo.fit(x_train, y_train)\n",
    "y_prev_svc= modelo.predict(x_test)"
   ]
  },
  {
   "cell_type": "code",
   "execution_count": 27,
   "metadata": {},
   "outputs": [
    {
     "name": "stdout",
     "output_type": "stream",
     "text": [
      "Relatório de Classificação:\n",
      "               precision    recall  f1-score   support\n",
      "\n",
      "           0     0.7600    0.3800    0.5067        50\n",
      "           1     0.8873    0.9760    0.9295       250\n",
      "\n",
      "    accuracy                         0.8767       300\n",
      "   macro avg     0.8236    0.6780    0.7181       300\n",
      "weighted avg     0.8661    0.8767    0.8590       300\n",
      "\n",
      "Acurácia: 87.67%\n",
      "\n"
     ]
    },
    {
     "data": {
      "image/png": "[encoded data removed]",
      "text/plain": [
       "<Figure size 432x288 with 2 Axes>"
      ]
     },
     "metadata": {},
     "output_type": "display_data"
    },
    {
     "data": {
      "text/plain": [
       "<Figure size 360x360 with 0 Axes>"
      ]
     },
     "metadata": {},
     "output_type": "display_data"
    },
    {
     "data": {
      "image/png": "[encoded data removed]",
      "text/plain": [
       "<Figure size 432x288 with 2 Axes>"
      ]
     },
     "metadata": {},
     "output_type": "display_data"
    },
    {
     "data": {
      "text/plain": [
       "<Figure size 360x360 with 0 Axes>"
      ]
     },
     "metadata": {},
     "output_type": "display_data"
    }
   ],
   "source": [
    "# imprimindo o Relatório de Classificação\n",
    "print(\"Relatório de Classificação:\\n\", classification_report(y_test, y_prev_svc, digits=4))\n",
    "\n",
    "# Imprimindo a Acurácia\n",
    "print(\"Acurácia: {:.2f}%\\n\".format(accuracy_score(y_test, y_prev_svc)*100))\n",
    "\n",
    "# Plotando a matrix de confusão\n",
    "cm= confusion_matrix(y_test, y_prev_svc)\n",
    "labels= ['Não', 'Sim']\n",
    "cmd= ConfusionMatrixDisplay(cm, display_labels= labels)\n",
    "cmd.plot(cmap= 'YlOrRd')\n",
    "plt.title('Matriz de Confusão', fontsize= 16)\n",
    "plt.figure(figsize= (5,5))\n",
    "plt.show()\n",
    "\n",
    "# Plotando a matrix de confusão em porcentagem\n",
    "cm= confusion_matrix(y_test, y_prev_svc, normalize= 'true')\n",
    "labels= ['Não', 'Sim']\n",
    "cmd= ConfusionMatrixDisplay(cm, display_labels= labels)\n",
    "cmd.plot(cmap= 'YlOrRd')\n",
    "plt.title('Matriz de Confusão - Porcentagem', fontsize= 16)\n",
    "plt.figure(figsize= (5,5))\n",
    "plt.show()"
   ]
  },
  {
   "cell_type": "markdown",
   "metadata": {},
   "source": [
    "### Insights\n",
    "\n",
    "- O resultado foi igual ao do teste com LogisticRegression.\n",
    "- O modelo também foi melhor do que o esperado, pois nos treinos a acurácia ficou em 84.14% e no teste 87.67%\n",
    "- Com a matriz de confusão, conseguimos visualizar que o maior erro no modelo se dá com os falsos negativos, onde a pessoa não compra o curso mas o modelo prevê que sim."
   ]
  },
  {
   "cell_type": "markdown",
   "metadata": {},
   "source": [
    "## Conclusão\n",
    "\n",
    "A maior acurácia conseguida foi de 87,67%. O curioso é que esse resultado aconteceu na hora de comparar os melhores parâmetros dos dois modelos escolhidos nos dados de teste, encontra.\n",
    "\n",
    "Isso pode ter sido ocasionado pela quantidade de dados não ter sido o suficiente e eles estarem desbalanceados, ou seja, existia muito mais dados de compra(83,2%) do que não compra(16,8%). Lembrando que o dataset desse projeto apresentavam 1000 linhas e 5 colunas.\n",
    "\n",
    "O indicado é a coleta de mais dados para refazer os testes."
   ]
  }
 ],
 "metadata": {
  "kernelspec": {
   "display_name": "Python 3",
   "language": "python",
   "name": "python3"
  },
  "language_info": {
   "codemirror_mode": {
    "name": "ipython",
    "version": 3
   },
   "file_extension": ".py",
   "mimetype": "text/x-python",
   "name": "python",
   "nbconvert_exporter": "python",
   "pygments_lexer": "ipython3",
   "version": "3.8.5"
  }
 },
 "nbformat": 4,
 "nbformat_minor": 4
}
